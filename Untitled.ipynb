{
 "cells": [
  {
   "cell_type": "code",
   "execution_count": 5,
   "id": "5abe1af6",
   "metadata": {},
   "outputs": [
    {
     "name": "stderr",
     "output_type": "stream",
     "text": [
      "C:\\Users\\WOOJIN\\anaconda3\\envs\\dacon\\lib\\site-packages\\tqdm\\auto.py:22: TqdmWarning: IProgress not found. Please update jupyter and ipywidgets. See https://ipywidgets.readthedocs.io/en/stable/user_install.html\n",
      "  from .autonotebook import tqdm as notebook_tqdm\n"
     ]
    }
   ],
   "source": [
    "from glob import glob\n",
    "from tqdm import tqdm\n",
    "#from rdkit import Chem\n",
    "import numpy as np\n",
    "import pandas as pd\n",
    "import re\n",
    "import shutil\n",
    "import os\n",
    "import torch"
   ]
  },
  {
   "cell_type": "code",
   "execution_count": 9,
   "id": "206dbcf7",
   "metadata": {},
   "outputs": [
    {
     "name": "stdout",
     "output_type": "stream",
     "text": [
      "device:  cuda\n"
     ]
    }
   ],
   "source": [
    "device = torch.device('cuda' if torch.cuda.is_available() else 'cpu')\n",
    "print('device: ', device)"
   ]
  },
  {
   "cell_type": "code",
   "execution_count": 17,
   "id": "a6953278",
   "metadata": {},
   "outputs": [
    {
     "name": "stdout",
     "output_type": "stream",
     "text": [
      "train_data.shape:  (18157, 4)\n",
      "test_data.shape:  (457, 2)\n",
      "sample_submission.shape:  (457, 3)\n"
     ]
    }
   ],
   "source": [
    "def read_data():\n",
    "    train_data = pd.read_csv('data/train_set.ReorgE.csv')\n",
    "    test_data = pd.read_csv('data/test_set.csv')\n",
    "    sample_submission = pd.read_csv('data/sample_submission.csv')\n",
    "    \n",
    "    print('train_data.shape: ', train_data.shape)\n",
    "    print('test_data.shape: ', test_data.shape)\n",
    "    print('sample_submission.shape: ', sample_submission.shape)\n",
    "    \n",
    "    return train_data, test_data, sample_submission\n",
    "\n",
    "train_data, test_data, sample_submission = read_data()"
   ]
  },
  {
   "cell_type": "code",
   "execution_count": null,
   "id": "ceac80d7",
   "metadata": {},
   "outputs": [],
   "source": []
  }
 ],
 "metadata": {
  "kernelspec": {
   "display_name": "dacon",
   "language": "python",
   "name": "dacon"
  },
  "language_info": {
   "codemirror_mode": {
    "name": "ipython",
    "version": 3
   },
   "file_extension": ".py",
   "mimetype": "text/x-python",
   "name": "python",
   "nbconvert_exporter": "python",
   "pygments_lexer": "ipython3",
   "version": "3.9.12"
  }
 },
 "nbformat": 4,
 "nbformat_minor": 5
}
